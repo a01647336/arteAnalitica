{
 "cells": [
  {
   "cell_type": "markdown",
   "id": "691763fb",
   "metadata": {},
   "source": [
    "# Análisis de Datos del Titanic\n",
    "Este notebook replica el flujo del notebook de Spotify aplicado al dataset `titanic.csv`.\n",
    "Se enfatiza el análisis: cajas y bigotes, boxplots por categoría, correlaciones, scatter plots con línea de tendencia y mapas de calor.\n",
    "\n",
    "Usaremos Pandas, Seaborn y Matplotlib. Después de cada visualización hay interpretación y conclusiones cortas."
   ]
  },
  {
   "cell_type": "markdown",
   "id": "36f1ff91",
   "metadata": {},
   "source": [
    "# 🛳 Análisis de Datos del Titanic\n",
    "Notebook adaptado del estilo del profesor. Se incluyen visualizaciones y explicaciones interpretativas después de cada gráfico."
   ]
  },
  {
   "cell_type": "code",
   "execution_count": null,
   "id": "aedc0f26",
   "metadata": {},
   "outputs": [],
   "source": [
    "import pandas as pd\n",
    "import numpy as np\n",
    "import seaborn as sns\n",
    "import matplotlib.pyplot as plt\n",
    "from pathlib import Path\n",
    "sns.set(style=\"whitegrid\")\n",
    "%matplotlib inline"
   ]
  },
  {
   "cell_type": "code",
   "execution_count": null,
   "id": "3a4ce170",
   "metadata": {},
   "outputs": [],
   "source": [
    "data_path = Path('titanic.csv')\n",
    "if data_path.exists():\n",
    "    df = pd.read_csv(data_path)\n",
    "    print(f'Archivo cargado desde: {data_path}')\n",
    "    display(df.head())\n",
    "else:\n",
    "    raise FileNotFoundError(f'No se encontró titanic.csv en: {data_path.resolve()}')"
   ]
  },
  {
   "cell_type": "code",
   "execution_count": null,
   "id": "e31a260d",
   "metadata": {},
   "outputs": [],
   "source": [
    "print('Columnas:', df.columns.tolist())\n",
    "print('\\nTipos:' )\n",
    "display(df.dtypes)\n",
    "print('\\nValores nulos por columna:' )\n",
    "display(df.isna().sum())"
   ]
  },
  {
   "cell_type": "code",
   "execution_count": null,
   "id": "fa309861",
   "metadata": {},
   "outputs": [],
   "source": [
    "df_clean = df.copy()\n",
    "for col in ['Age','Fare','SibSp','Parch','Pclass','Survived']:\n",
    "    if col in df_clean.columns:\n",
    "        df_clean[col] = pd.to_numeric(df_clean[col], errors='coerce')\n",
    "if 'Fare' in df_clean.columns:\n",
    "    df_clean['Fare_pos'] = df_clean['Fare'].replace(0, np.nan)"
   ]
  },
  {
   "cell_type": "code",
   "execution_count": null,
   "id": "3417856d",
   "metadata": {},
   "outputs": [],
   "source": [
    "plt.figure(figsize=(12,6))\n",
    "df_plot = df_clean.copy()\n",
    "df_plot['Fare_plot'] = df_plot['Fare_pos'].fillna(df_plot['Fare'])\n",
    "sns.boxplot(data=df_plot, x='Pclass', y='Fare_plot', hue='Sex')\n",
    "plt.yscale('log')\n",
    "plt.title('Distribución de Fare por Clase y Sexo (escala log)')\n",
    "plt.ylabel('Fare (log scale)')\n",
    "plt.show()"
   ]
  },
  {
   "cell_type": "markdown",
   "id": "c19ca00a",
   "metadata": {},
   "source": [
    "Interpretación:\n",
    "- La variable `Fare` presenta outliers y mayor dispersión para la primera clase.\n",
    "- Las comparaciones por sexo dentro de cada clase pueden revelar diferencias de acceso a tickets o combinaciones de reserva."
   ]
  },
  {
   "cell_type": "markdown",
   "id": "c3776ec3",
   "metadata": {},
   "source": [
    "## Correlaciones y mapa de calor\n",
    "Calcularemos la matriz de correlación entre variables numéricas y la visualizaremos mediante un heatmap."
   ]
  },
  {
   "cell_type": "code",
   "execution_count": null,
   "id": "5daaa76b",
   "metadata": {},
   "outputs": [],
   "source": [
    "num_cols = [c for c in ['Age','Fare','SibSp','Parch','Survived','Pclass'] if c in df_clean.columns]\n",
    "corr = df_clean[num_cols].corr()\n",
    "display(corr)"
   ]
  },
  {
   "cell_type": "code",
   "execution_count": null,
   "id": "69ff9df1",
   "metadata": {},
   "outputs": [],
   "source": [
    "plt.figure(figsize=(7,6))\n",
    "sns.heatmap(corr, annot=True, cmap='coolwarm', fmt='.2f')\n",
    "plt.title('Mapa de calor de correlaciones (variables numéricas)')\n",
    "plt.show()"
   ]
  },
  {
   "cell_type": "markdown",
   "id": "a02b14f9",
   "metadata": {},
   "source": [
    "Interpretación rápida:\n",
    "- Observa correlaciones con `Survived` para identificar variables con asociación positiva o negativa.\n",
    "- Recuerda la diferencia entre correlación y causalidad; controlar por `Pclass` y `Sex` en análisis posteriores."
   ]
  },
  {
   "cell_type": "markdown",
   "id": "d2c824b0",
   "metadata": {},
   "source": [
    "## 3️⃣ Scatter plots con línea de tendencia\n",
    "Mostraremos pares interesantes (Age vs Fare, Fare vs Survived, SibSp vs Parch, Age vs Survived) y el coeficiente r de Pearson."
   ]
  },
  {
   "cell_type": "code",
   "execution_count": null,
   "id": "13ad62e4",
   "metadata": {},
   "outputs": [],
   "source": [
    "pairs = [('Age','Fare'), ('Fare','Survived'), ('SibSp','Parch'), ('Age','Survived')]\n",
    "pairs = [p for p in pairs if p[0] in df_clean.columns and p[1] in df_clean.columns]\n",
    "fig, axes = plt.subplots(2,2, figsize=(14,10))\n",
    "axes = axes.flatten()\n",
    "for ax, (x,y) in zip(axes, pairs):\n",
    "    sub = df_clean[[x,y]].dropna()\n",
    "    if len(sub) < 2:\n",
    "        ax.text(0.5,0.5,'Datos insuficientes', ha='center')\n",
    "        ax.set_axis_off()\n",
    "        continue\n",
    "    r = sub[x].corr(sub[y])\n",
    "    sns.regplot(data=sub, x=x, y=y, ax=ax, scatter_kws={'alpha':0.4,'s':20}, line_kws={'color':'red'})\n",
    "    ax.set_title(f'{x} vs {y} (r={r:.2f})')\n",
    "    if x == 'Survived' or y == 'Survived':\n",
    "        ax.set_yticks([0,1])\n",
    "plt.tight_layout()\n",
    "plt.show()"
   ]
  },
  {
   "cell_type": "markdown",
   "id": "d0419f1a",
   "metadata": {},
   "source": [
    "Interpretación:\n",
    "- `Fare` vs `Survived`: r positiva suele indicar que tarifas mayores se asociaron con mayor supervivencia (efecto de clase).\n",
    "- `Age` vs `Survived`: revisar estratos por `Pclass` y `Sex` para entender mejor el patrón."
   ]
  },
  {
   "cell_type": "code",
   "execution_count": null,
   "id": "6a0e0e12",
   "metadata": {},
   "outputs": [],
   "source": [
    "pairs = []\n",
    "cols = corr.columns.tolist()\n",
    "for i in range(len(cols)):\n",
    "    for j in range(i+1, len(cols)):\n",
    "        a, b = cols[i], cols[j]\n",
    "        pairs.append((a, b, corr.loc[a,b]))\n",
    "pairs_sorted = sorted(pairs, key=lambda x: abs(x[2]), reverse=True)\n",
    "print('Top 5 pares por |r|:')\n",
    "for a,b,r in pairs_sorted[:5]:\n",
    "    signo = 'positiva' if r>0 else 'negativa'\n",
    "    print(f' - {a} vs {b}: r={r:.2f} ({signo})')\n",
    "\n",
    "# 5 oraciones interpretativas\n",
    "if pairs_sorted:\n",
    "    top = pairs_sorted[0]\n",
    "    print('Cinco oraciones interpretativas:')\n",
    "    print(f\"1) El par con mayor correlación absoluta es {top[0]} vs {top[1]} (r={top[2]:.2f}), indicando una asociación {'positiva' if top[2]>0 else 'negativa' }.\")\n",
    "    influence = {v: sum(abs(corr[v].drop(v))) for v in cols}\n",
    "    var_most = max(influence.items(), key=lambda x: x[1])\n",
    "    var_least = min(influence.items(), key=lambda x: x[1])\n",
    "    print(f\"2) La variable más influyente (suma de |r|) es {var_most[0]} con suma={var_most[1]:.2f}.\")\n",
    "    print(f\"3) La variable menos correlacionada es {var_least[0]} con suma={var_least[1]:.2f}.\")\n",
    "    if 'Survived' in cols:\n",
    "        print(f\"4) Correlaciones con 'Survived': {[ (c, float(corr.loc['Survived', c])) for c in cols if c!='Survived' ]}\")\n",
    "    print('5) Recordar que correlación no implica causalidad; controlar por Pclass y Sex en análisis posteriores.')"
   ]
  },
  {
   "cell_type": "markdown",
   "id": "4d983eda",
   "metadata": {},
   "source": [
    "## Conclusiones finales\n",
    "- Hallazgos principales: diferencias por clase en `Fare` y `Age`, asociaciones con `Survived` y presencia de outliers en `Fare`.\n",
    "- Recomendaciones: análisis estratificado por `Pclass` y `Sex`, imputación cuidadosa de `Age` y modelos de regresión logística para estudiar factores de supervivencia."
   ]
  }
 ],
 "metadata": {
  "kernelspec": {
   "display_name": ".venv",
   "language": "python",
   "name": "python3"
  },
  "language_info": {
   "codemirror_mode": {
    "name": "ipython",
    "version": 3
   },
   "file_extension": ".py",
   "mimetype": "text/x-python",
   "name": "python",
   "nbconvert_exporter": "python",
   "pygments_lexer": "ipython3",
   "version": "3.14.0"
  }
 },
 "nbformat": 4,
 "nbformat_minor": 5
}
